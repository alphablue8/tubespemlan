{
 "cells": [
  {
   "cell_type": "code",
   "execution_count": 1,
   "metadata": {},
   "outputs": [],
   "source": [
    "import cv2\n",
    "import os\n",
    "import time\n",
    "import uuid"
   ]
  },
  {
   "cell_type": "code",
   "execution_count": 2,
   "metadata": {},
   "outputs": [],
   "source": [
    "IMAGES_PATH = 'Tensorflow/workspace/images/collectedimages'"
   ]
  },
  {
   "cell_type": "code",
   "execution_count": 3,
   "metadata": {},
   "outputs": [],
   "source": [
    "labels = ['Hello', 'Goodbye', 'I', 'You', 'Yes', 'No', 'Help', 'Please', 'Sorry', 'Thanks', 'ExcuseMe', 'Iloveyou', 'What', 'HowAreYou', 'Eat', 'ImFine', 'Name', 'Zero', 'One', 'Two', 'Three', 'Four', 'Five', 'Six', 'Seven', 'Eight', 'Nine', 'Ten']\n",
    "number_imgs = 15"
   ]
  },
  {
   "cell_type": "code",
   "execution_count": 4,
   "metadata": {},
   "outputs": [
    {
     "name": "stdout",
     "output_type": "stream",
     "text": [
      "Collecting images for Hello\n",
      "Collecting images for Goodbye\n",
      "Collecting images for I\n",
      "Collecting images for You\n",
      "Collecting images for Yes\n",
      "Collecting images for No\n",
      "Collecting images for Help\n",
      "Collecting images for Please\n",
      "Collecting images for Sorry\n",
      "Collecting images for Thanks\n",
      "Collecting images for ExcuseMe\n",
      "Collecting images for Iloveyou\n",
      "Collecting images for What\n",
      "Collecting images for HowAreYou\n",
      "Collecting images for Eat\n",
      "Collecting images for ImFine\n",
      "Collecting images for Name\n",
      "Collecting images for Zero\n",
      "Collecting images for One\n",
      "Collecting images for Two\n",
      "Collecting images for Three\n",
      "Collecting images for Four\n",
      "Collecting images for Five\n",
      "Collecting images for Six\n",
      "Collecting images for Seven\n",
      "Collecting images for Eight\n",
      "Collecting images for Nine\n",
      "Collecting images for Ten\n"
     ]
    },
    {
     "ename": "",
     "evalue": "",
     "output_type": "error",
     "traceback": [
      "\u001b[1;31mThe Kernel crashed while executing code in the the current cell or a previous cell. Please review the code in the cell(s) to identify a possible cause of the failure. Click <a href='https://aka.ms/vscodeJupyterKernelCrash'>here</a> for more info. View Jupyter <a href='command:jupyter.viewOutput'>log</a> for further details."
     ]
    }
   ],
   "source": [
    "for label in labels:\n",
    "    !mkdir {'Tensorflow\\workspace\\images\\collectedimages\\\\'+label}\n",
    "    cap = cv2.VideoCapture(0)\n",
    "    print('Collecting images for {}'.format(label))\n",
    "    time.sleep(5)\n",
    "    for imgnum in range (number_imgs):\n",
    "        ret, frame = cap.read()\n",
    "        imgname = os.path.join(IMAGES_PATH, label, label+'.'+'{}.jpg'.format(str(uuid.uuid1())))\n",
    "        cv2.imwrite(imgname, frame)\n",
    "        cv2.imshow('frame', frame)\n",
    "        time.sleep(2)\n",
    "\n",
    "        if cv2.waitKey(1) & 0xFF == ord('q'):\n",
    "            break\n",
    "    cap.release()"
   ]
  },
  {
   "cell_type": "code",
   "execution_count": null,
   "metadata": {},
   "outputs": [],
   "source": []
  }
 ],
 "metadata": {
  "language_info": {
   "name": "python"
  },
  "orig_nbformat": 4
 },
 "nbformat": 4,
 "nbformat_minor": 2
}
